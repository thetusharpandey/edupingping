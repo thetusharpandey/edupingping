{
 "cells": [
  {
   "cell_type": "code",
   "execution_count": null,
   "id": "156c8f7e",
   "metadata": {
    "scrolled": true
   },
   "outputs": [
    {
     "name": "stdout",
     "output_type": "stream",
     "text": [
      "Server started http://localhost:8080\n"
     ]
    },
    {
     "name": "stderr",
     "output_type": "stream",
     "text": [
      "127.0.0.1 - - [02/Aug/2024 21:09:55] \"GET / HTTP/1.1\" 200 -\n",
      "127.0.0.1 - - [02/Aug/2024 21:09:55] \"GET /tathastu300.png HTTP/1.1\" 404 -\n",
      "127.0.0.1 - - [02/Aug/2024 21:09:55] \"GET /moneySave.gif HTTP/1.1\" 404 -\n",
      "127.0.0.1 - - [02/Aug/2024 21:09:55] \"GET /pets.gif HTTP/1.1\" 404 -\n",
      "127.0.0.1 - - [02/Aug/2024 21:09:55] \"GET /babay.gif HTTP/1.1\" 404 -\n",
      "127.0.0.1 - - [02/Aug/2024 21:09:55] \"GET /easyConcept.gif HTTP/1.1\" 404 -\n",
      "127.0.0.1 - - [02/Aug/2024 21:09:55] \"GET /tathastu100.png HTTP/1.1\" 404 -\n",
      "127.0.0.1 - - [02/Aug/2024 21:09:55] \"GET /scroll.gif HTTP/1.1\" 404 -\n",
      "127.0.0.1 - - [02/Aug/2024 21:09:55] \"GET /tinyImages/image24.jpg HTTP/1.1\" 404 -\n",
      "127.0.0.1 - - [02/Aug/2024 21:09:56] \"GET /tinyImages/image23.jpg HTTP/1.1\" 404 -\n",
      "127.0.0.1 - - [02/Aug/2024 21:09:56] \"GET /tinyImages/image22.jpg HTTP/1.1\" 404 -\n",
      "127.0.0.1 - - [02/Aug/2024 21:09:56] \"GET /tinyImages/image21.jpg HTTP/1.1\" 404 -\n",
      "127.0.0.1 - - [02/Aug/2024 21:09:56] \"GET /tinyImages/image20.jpg HTTP/1.1\" 404 -\n",
      "127.0.0.1 - - [02/Aug/2024 21:09:56] \"GET /tinyImages/image19.jpg HTTP/1.1\" 404 -\n",
      "127.0.0.1 - - [02/Aug/2024 21:09:56] \"GET /tinyImages/image18.jpg HTTP/1.1\" 404 -\n",
      "127.0.0.1 - - [02/Aug/2024 21:09:56] \"GET /tinyImages/image17.jpg HTTP/1.1\" 404 -\n",
      "127.0.0.1 - - [02/Aug/2024 21:09:56] \"GET /tinyImages/image10.jpg HTTP/1.1\" 404 -\n",
      "127.0.0.1 - - [02/Aug/2024 21:09:56] \"GET /favicon/favicon.ico HTTP/1.1\" 404 -\n",
      "127.0.0.1 - - [02/Aug/2024 21:09:59] \"GET /favicon/site.webmanifest HTTP/1.1\" 200 -\n"
     ]
    }
   ],
   "source": [
    "# Python 3 server example\n",
    "from http.server import BaseHTTPRequestHandler, HTTPServer\n",
    "import time\n",
    "\n",
    "hostName = \"localhost\"\n",
    "serverPort = 8080\n",
    "\n",
    "class MyServer(BaseHTTPRequestHandler):\n",
    "    def do_GET(self):\n",
    "        if self.path == '/':\n",
    "            self.path = '/index.html'\n",
    "        try:\n",
    "            file_to_open = open(self.path[1:]).read()\n",
    "            self.send_response(200)\n",
    "            self.send_header('Content-type', 'text/html')\n",
    "            self.end_headers()\n",
    "            self.wfile.write(bytes(file_to_open, 'utf-8'))\n",
    "        except:\n",
    "            self.send_response(404)\n",
    "            self.send_header('Content-type', 'text/html')\n",
    "            self.end_headers()\n",
    "            self.wfile.write(b'404 - Not Found')\n",
    "\n",
    "if __name__ == \"__main__\":        \n",
    "    webServer = HTTPServer((hostName, serverPort), MyServer)\n",
    "    print(\"Server started http://%s:%s\" % (hostName, serverPort))\n",
    "\n",
    "    try:\n",
    "        webServer.serve_forever()\n",
    "    except KeyboardInterrupt:\n",
    "        pass\n",
    "\n",
    "    webServer.server_close()\n",
    "    print(\"Server stopped.\")"
   ]
  }
 ],
 "metadata": {
  "kernelspec": {
   "display_name": "Python 3",
   "language": "python",
   "name": "python3"
  },
  "language_info": {
   "codemirror_mode": {
    "name": "ipython",
    "version": 3
   },
   "file_extension": ".py",
   "mimetype": "text/x-python",
   "name": "python",
   "nbconvert_exporter": "python",
   "pygments_lexer": "ipython3",
   "version": "3.9.1"
  }
 },
 "nbformat": 4,
 "nbformat_minor": 5
}
